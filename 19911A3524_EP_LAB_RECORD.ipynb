{
  "nbformat": 4,
  "nbformat_minor": 0,
  "metadata": {
    "colab": {
      "name": "19911A3524_EP LAB RECORD",
      "provenance": [],
      "collapsed_sections": [],
      "include_colab_link": true
    },
    "kernelspec": {
      "display_name": "Python 3",
      "name": "python3"
    },
    "language_info": {
      "name": "python"
    }
  },
  "cells": [
    {
      "cell_type": "markdown",
      "metadata": {
        "id": "view-in-github",
        "colab_type": "text"
      },
      "source": [
        "<a href=\"https://colab.research.google.com/github/Saiteja2812/Emission-of-CO-by-Vechiles/blob/main/19911A3524_EP_LAB_RECORD.ipynb\" target=\"_parent\"><img src=\"https://colab.research.google.com/assets/colab-badge.svg\" alt=\"Open In Colab\"/></a>"
      ]
    },
    {
      "cell_type": "markdown",
      "metadata": {
        "id": "4qD7Do7rGDHr"
      },
      "source": [
        "# **EXERCISE 1**"
      ]
    },
    {
      "cell_type": "markdown",
      "metadata": {
        "id": "kVmMCiXnGuLe"
      },
      "source": [
        "a)Instalation and Environment setup in Python"
      ]
    },
    {
      "cell_type": "markdown",
      "metadata": {
        "id": "0Mc95I6ZLvlE"
      },
      "source": [
        "Pip is one of the most famous and widely used package management system to install and manage software packages written in Python and found in Python Package Index (PyPI). Pip is a recursive acronym that can stand for either \"Pip Installs Packages\" or \"Pip Installs Python\"."
      ]
    },
    {
      "cell_type": "code",
      "metadata": {
        "colab": {
          "base_uri": "https://localhost:8080/",
          "height": 35
        },
        "id": "_AgfvBsGF-RU",
        "outputId": "d089117f-574e-4e11-c50a-95ef779dea9c"
      },
      "source": [
        "#pip=prefered installer program\n",
        "\"\"\"pip instal numpy\n",
        "pip instal pandas\n",
        "pip instal add to path\"\"\""
      ],
      "execution_count": null,
      "outputs": [
        {
          "output_type": "execute_result",
          "data": {
            "application/vnd.google.colaboratory.intrinsic+json": {
              "type": "string"
            },
            "text/plain": [
              "'pip instal numpy\\npip instal pandas\\npip instal add to path'"
            ]
          },
          "metadata": {
            "tags": []
          },
          "execution_count": 7
        }
      ]
    },
    {
      "cell_type": "markdown",
      "metadata": {
        "id": "jGCuenfoHMp0"
      },
      "source": [
        "**b**)Program to demonstrate the use of basic data types"
      ]
    },
    {
      "cell_type": "code",
      "metadata": {
        "colab": {
          "base_uri": "https://localhost:8080/"
        },
        "id": "U7iMoE4bHwZj",
        "outputId": "34f65a51-148b-436c-8c89-e0137e279a64"
      },
      "source": [
        "x = 20     #int\n",
        "print(x)\n",
        "print(type(x))\n",
        "x = 20.5 #float\n",
        "print(x)\n",
        "print(type(x))\n",
        "x = 1j        #complex\n",
        "print(x)\n",
        "print(type(x))"
      ],
      "execution_count": null,
      "outputs": [
        {
          "output_type": "stream",
          "text": [
            "20\n",
            "<class 'int'>\n",
            "20.5\n",
            "<class 'float'>\n",
            "1j\n",
            "<class 'complex'>\n"
          ],
          "name": "stdout"
        }
      ]
    },
    {
      "cell_type": "markdown",
      "metadata": {
        "id": "0m9l5zSDHw0e"
      },
      "source": [
        "c)Program to demonstrate the operators and Expressions"
      ]
    },
    {
      "cell_type": "code",
      "metadata": {
        "colab": {
          "base_uri": "https://localhost:8080/"
        },
        "id": "allUhMe7H-eb",
        "outputId": "e0be1a18-7c7a-4e9e-ef30-d3f595cc046d"
      },
      "source": [
        "# Examples of Arithmetic Operator \n",
        "a = 12\n",
        "b = 5\n",
        "# Addition of numbers \n",
        "add = a + b \n",
        "# Subtraction of numbers \n",
        "sub = a - b \n",
        "# Multiplication of number \n",
        "mul = a * b \n",
        "# Division(float) of number \n",
        "div1 = a / b \n",
        "# Division(floor) of number \n",
        "div2 = a // b \n",
        "# Modulo of both number \n",
        "mod = a % b \n",
        "# Power\n",
        "p = a ** b\n",
        "# print results \n",
        "print(add) \n",
        "print(sub) \n",
        "print(mul) \n",
        "print(div1) \n",
        "print(div2) \n",
        "print(mod)\n",
        "print(p)"
      ],
      "execution_count": null,
      "outputs": [
        {
          "output_type": "stream",
          "text": [
            "17\n",
            "7\n",
            "60\n",
            "2.4\n",
            "2\n",
            "2\n",
            "248832\n"
          ],
          "name": "stdout"
        }
      ]
    },
    {
      "cell_type": "markdown",
      "metadata": {
        "id": "HDjYZL6YICfw"
      },
      "source": [
        "d)Program to demonstrate the Functions and parameter passing techniques"
      ]
    },
    {
      "cell_type": "code",
      "metadata": {
        "id": "sPIRw5FRNXrM"
      },
      "source": [
        "def my_function():\n",
        "  print(\"Hello from a function\")"
      ],
      "execution_count": null,
      "outputs": []
    },
    {
      "cell_type": "code",
      "metadata": {
        "colab": {
          "base_uri": "https://localhost:8080/"
        },
        "id": "z9jQuKUsNcLP",
        "outputId": "f066ce75-a7f6-461f-8202-41329f79bd02"
      },
      "source": [
        "def my_function():\n",
        "  print(\"Hello from a function\")\n",
        "my_function()"
      ],
      "execution_count": null,
      "outputs": [
        {
          "output_type": "stream",
          "text": [
            "Hello from a function\n"
          ],
          "name": "stdout"
        }
      ]
    },
    {
      "cell_type": "code",
      "metadata": {
        "colab": {
          "base_uri": "https://localhost:8080/"
        },
        "id": "eO354Q9eNhDQ",
        "outputId": "a01c7ea9-0718-49cc-ee58-22e89bc8f463"
      },
      "source": [
        "def my_function(fname):\n",
        "  print(fname + \" Refsnes\")\n",
        "my_function(\"Emil\")\n",
        "my_function(\"Tobias\")\n",
        "my_function(\"Linus\")"
      ],
      "execution_count": null,
      "outputs": [
        {
          "output_type": "stream",
          "text": [
            "Emil Refsnes\n",
            "Tobias Refsnes\n",
            "Linus Refsnes\n"
          ],
          "name": "stdout"
        }
      ]
    },
    {
      "cell_type": "markdown",
      "metadata": {
        "id": "TH86ApsSK9e5"
      },
      "source": [
        "# **EXERCISE** **2**"
      ]
    },
    {
      "cell_type": "markdown",
      "metadata": {
        "id": "KCl5wf0aLCq4"
      },
      "source": [
        "a)Program to implement\n",
        "* Packages \n",
        "* Modules\n",
        "* Buil-in functions \n",
        "\n",
        "\n",
        "\n",
        "\n",
        "\n",
        "\n"
      ]
    },
    {
      "cell_type": "code",
      "metadata": {
        "id": "qXsEGqRjPfFU"
      },
      "source": [
        "def greeting(name):\n",
        "  print(\"Hello, \" + name)\n",
        "import mymodule\n",
        "mymodule.greeting(\"Dattu\")"
      ],
      "execution_count": null,
      "outputs": []
    },
    {
      "cell_type": "markdown",
      "metadata": {
        "id": "N9MMuGyFG1mG"
      },
      "source": [
        "b)Program to implement \n",
        "* List\n",
        "* Tuple\n",
        "* Dictionaries"
      ]
    },
    {
      "cell_type": "code",
      "metadata": {
        "colab": {
          "base_uri": "https://localhost:8080/"
        },
        "id": "LlRiMQqTG-Qh",
        "outputId": "54002f2c-2aac-4c47-f2e1-efe046fbd4e5"
      },
      "source": [
        "test_list =['Hello',5,13,28,'SRY','welcome',]\n",
        "print(test_list)\n",
        "test_tuples = ('Hello',1,2)\n",
        "print(test_tuples)\n",
        "test_dict = {'key1': 4+4,'key2': 7+7 ,'key4' :8+8}\n",
        "print(test_dict)"
      ],
      "execution_count": null,
      "outputs": [
        {
          "output_type": "stream",
          "text": [
            "['Hello', 55, 58, 7, 'AI', 'welcome']\n",
            "('Hello', 1, 2)\n",
            "{'key1': 8, 'key2': 14, 'key4': 16}\n"
          ],
          "name": "stdout"
        }
      ]
    },
    {
      "cell_type": "markdown",
      "metadata": {
        "id": "tHIntc-hG-w-"
      },
      "source": [
        "c)Programs on String,String Operations and Regular Expressions"
      ]
    },
    {
      "cell_type": "code",
      "metadata": {
        "colab": {
          "base_uri": "https://localhost:8080/"
        },
        "id": "69RU-AujHHCe",
        "outputId": "04b6cd9d-f585-46ac-d6c5-7b6810c5f212"
      },
      "source": [
        "# String \n",
        "str1 = 'Hello, '\n",
        "str2 = 'this is jon.'\n",
        "print(str1+str2)"
      ],
      "execution_count": null,
      "outputs": [
        {
          "output_type": "stream",
          "text": [
            "Hello, this is jon.\n"
          ],
          "name": "stdout"
        }
      ]
    },
    {
      "cell_type": "code",
      "metadata": {
        "colab": {
          "base_uri": "https://localhost:8080/"
        },
        "id": "Pxl5H9KjJ30t",
        "outputId": "9c268e3f-4dde-4f83-a093-37d5824e4e04"
      },
      "source": [
        "# String operations\n",
        "s = \"Where their is a friend their will be a problem!\"\n",
        "print(\"Length of s = %d\" % len(s))\n",
        "print(\"The first occurrence of the letter e = %d\" % s.index(\"e\"))\n",
        "print(\"e occurs %d times\" % s.count(\"e\"))\n",
        "print(\"The first five characters are '%s'\" % s[:5]) \n",
        "print(\"The next five characters are '%s'\" % s[5:10]) \n",
        "print(\"The thirteenth character is '%s'\" % s[12]) \n",
        "print(\"The characters with odd index are '%s'\" %s[1::2])\n",
        "print(\"The last five characters are '%s'\" % s[-5:]) \n",
        "print(\"String in uppercase: %s\" % s.upper())\n",
        "print(\"String in lowercase: %s\" % s.lower())\n",
        "if s.startswith(\"Whe\"):\n",
        "    print(\"String starts with 'Whe'. Good!\")\n",
        "if s.endswith(\"lem!\"):\n",
        "    print(\"String ends with 'lem!'. Good!\")\n",
        "print(\"Split the words of the string: %s\" % s.split(\" \"))"
      ],
      "execution_count": null,
      "outputs": [
        {
          "output_type": "stream",
          "text": [
            "Length of s = 48\n",
            "The first occurrence of the letter e = 2\n",
            "e occurs 7 times\n",
            "The first five characters are 'Where'\n",
            "The next five characters are ' thei'\n",
            "The thirteenth character is 'i'\n",
            "The characters with odd index are 'hr hi safin hi ilb  rbe!'\n",
            "The last five characters are 'blem!'\n",
            "String in uppercase: WHERE THEIR IS A FRIEND THEIR WILL BE A PROBLEM!\n",
            "String in lowercase: where their is a friend their will be a problem!\n",
            "String starts with 'Whe'. Good!\n",
            "String ends with 'lem!'. Good!\n",
            "Split the words of the string: ['Where', 'their', 'is', 'a', 'friend', 'their', 'will', 'be', 'a', 'problem!']\n"
          ],
          "name": "stdout"
        }
      ]
    },
    {
      "cell_type": "code",
      "metadata": {
        "colab": {
          "base_uri": "https://localhost:8080/"
        },
        "id": "eADXMkXeJ79Y",
        "outputId": "8fd438e1-6d46-4f3d-9261-6e8496a74352"
      },
      "source": [
        "#regular Expression\n",
        "import re\n",
        "p = re.compile('[a-e]')\n",
        "print(p.findall(\"Aye, said Mr.Robert Dowry Juniour\"))"
      ],
      "execution_count": null,
      "outputs": [
        {
          "output_type": "stream",
          "text": [
            "['e', 'a', 'd', 'b', 'e']\n"
          ],
          "name": "stdout"
        }
      ]
    },
    {
      "cell_type": "markdown",
      "metadata": {
        "id": "3G5ZVkagHHct"
      },
      "source": [
        "# **EXERCISE** **3**#"
      ]
    },
    {
      "cell_type": "markdown",
      "metadata": {
        "id": "zQi9FQfvHQjH"
      },
      "source": [
        "a) Program To implement class and object"
      ]
    },
    {
      "cell_type": "code",
      "metadata": {
        "id": "ZaOPuQceHoxQ"
      },
      "source": [
        "#CLASS\n",
        "class employee:\n",
        "  \"This is a AIE class\"\n",
        "  marks=10000\n",
        "  def greet(self):\n",
        "    return \"Good Students\""
      ],
      "execution_count": null,
      "outputs": []
    },
    {
      "cell_type": "code",
      "metadata": {
        "colab": {
          "base_uri": "https://localhost:8080/"
        },
        "id": "zSzk6GF4K0z2",
        "outputId": "081538c8-4deb-4f86-b900-3ca6c019bbd5"
      },
      "source": [
        "#OBJECT\n",
        "p1=employee\n",
        "print(p1.marks)\n",
        "print(p1.greet('Good student'))"
      ],
      "execution_count": null,
      "outputs": [
        {
          "output_type": "stream",
          "text": [
            "10000\n",
            "Good Students\n"
          ],
          "name": "stdout"
        }
      ]
    },
    {
      "cell_type": "markdown",
      "metadata": {
        "id": "SrP0JTOqHpS1"
      },
      "source": [
        "b)Program to implement Static and Instance methods, Abstract Classes and Interfaces"
      ]
    },
    {
      "cell_type": "code",
      "metadata": {
        "colab": {
          "base_uri": "https://localhost:8080/"
        },
        "id": "kxu-SVUEH4lS",
        "outputId": "b61bc255-584c-4158-b274-545c25a3fcab"
      },
      "source": [
        "#static method\n",
        "class Mathematics:\n",
        "    def addNumbers(x, y):\n",
        "        return x + y\n",
        "Mathematics.addNumbers = staticmethod(Mathematics.addNumbers)\n",
        "print('The sum is:', Mathematics.addNumbers(15, 10))"
      ],
      "execution_count": null,
      "outputs": [
        {
          "output_type": "stream",
          "text": [
            "The sum is: 25\n"
          ],
          "name": "stdout"
        }
      ]
    },
    {
      "cell_type": "code",
      "metadata": {
        "colab": {
          "base_uri": "https://localhost:8080/"
        },
        "id": "GdZVDDALLZMF",
        "outputId": "93f06eb9-71f2-4eb9-dd7c-bc745ab50b6f"
      },
      "source": [
        "#instance method\n",
        "# Python program to demonstrate\n",
        "# instance methods\n",
        "class shape:\n",
        "\t# Calling Constructor\n",
        "\tdef __init__(self, edge, color):\n",
        "\t\tself.edge = edge\n",
        "\t\tself.color = color\n",
        "\t# Instance Method\n",
        "\tdef finEdges(self):\n",
        "\t\treturn self.edge\n",
        "\t# Instance Method\n",
        "\tdef modifyEdges(self, newedge):\n",
        "\t\tself.edge = newedge\n",
        "# Driver Code\n",
        "circle = shape(0, 'red')\n",
        "square = shape(4, 'blue')\n",
        "# Calling Instance Method\n",
        "print(\"No. of edges for circle: \"+ str(circle.finEdges()))\n",
        "# Calling Instance Method\n",
        "square.modifyEdges(6)\n",
        "print(\"No. of edges for square: \"+ str(square.finEdges()))"
      ],
      "execution_count": null,
      "outputs": [
        {
          "output_type": "stream",
          "text": [
            "No. of edges for circle: 0\n",
            "No. of edges for square: 6\n"
          ],
          "name": "stdout"
        }
      ]
    },
    {
      "cell_type": "code",
      "metadata": {
        "colab": {
          "base_uri": "https://localhost:8080/"
        },
        "id": "hkLy2D8FLpl3",
        "outputId": "d34bbb8e-b9fc-4328-ce71-b63770708767"
      },
      "source": [
        "#abstract class\n",
        "# Python program showing\n",
        "# abstract base class work\n",
        "from abc import ABC, abstractmethod\n",
        "class Polygon(ABC):\n",
        "\t@abstractmethod\n",
        "\tdef noofsides(self):\n",
        "\t\tpass\n",
        "class Triangle(Polygon):\n",
        "\t# overriding abstract method\n",
        "\tdef noofsides(self):\n",
        "\t\tprint(\"I have 3 sides\")\n",
        "class Pentagon(Polygon):\n",
        "\t# overriding abstract method\n",
        "\tdef noofsides(self):\n",
        "\t\tprint(\"I have 5 sides\")\n",
        "class Hexagon(Polygon):\n",
        "\t# overriding abstract method\n",
        "\tdef noofsides(self):\n",
        "\t\tprint(\"I have 6 sides\")\n",
        "class Quadrilateral(Polygon):\n",
        "\t# overriding abstract method\n",
        "\tdef noofsides(self):\n",
        "\t\tprint(\"I have 4 sides\")\n",
        "# Driver code\n",
        "R = Triangle()\n",
        "R.noofsides()\n",
        "K = Quadrilateral()\n",
        "K.noofsides()\n",
        "R = Pentagon()\n",
        "R.noofsides()\n",
        "K = Hexagon()\n",
        "K.noofsides()"
      ],
      "execution_count": null,
      "outputs": [
        {
          "output_type": "stream",
          "text": [
            "I have 3 sides\n",
            "I have 4 sides\n",
            "I have 5 sides\n",
            "I have 6 sides\n"
          ],
          "name": "stdout"
        }
      ]
    },
    {
      "cell_type": "code",
      "metadata": {
        "id": "Tt5MF_3UWYDc"
      },
      "source": [
        "#interfaces\n",
        "import zope.interface\n",
        "\n",
        "\n",
        "class MyInterface(zope.interface.Interface):\n",
        "\tx = zope.interface.Attribute(\"foo\")\n",
        "\tdef method1(self, x):\n",
        "\t\tpass\n",
        "\tdef method2(self):\n",
        "\t\tpass\n",
        "print(type(MyInterface))\n",
        "print(MyInterface._module_)\n",
        "print(MyInterface._name_)\n",
        "# get attribute\n",
        "x = MyInterface['x']\n",
        "print(x)\n",
        "print(type(x))"
      ],
      "execution_count": null,
      "outputs": []
    },
    {
      "cell_type": "markdown",
      "metadata": {
        "id": "y9xUMsKQH5I1"
      },
      "source": [
        "c)Program to compute distance between two points taking input from the user using Pythagorean Theorem"
      ]
    },
    {
      "cell_type": "code",
      "metadata": {
        "colab": {
          "base_uri": "https://localhost:8080/"
        },
        "id": "WDdEtZMVIJ_C",
        "outputId": "e04f4467-ecfc-4017-d805-75347ab0a6f7"
      },
      "source": [
        "import math\n",
        "input1 = int (input('Enter a first number :'))\n",
        "input2 = int (input('Enter a second number :'))\n",
        "distance = input1*2 + input2*2\n",
        "print(distance)\n",
        "math.sqrt(distance)"
      ],
      "execution_count": null,
      "outputs": [
        {
          "output_type": "stream",
          "text": [
            "Enter a first number :15\n",
            "Enter a second number :39\n",
            "108\n"
          ],
          "name": "stdout"
        },
        {
          "output_type": "execute_result",
          "data": {
            "text/plain": [
              "10.392304845413264"
            ]
          },
          "metadata": {
            "tags": []
          },
          "execution_count": 27
        }
      ]
    },
    {
      "cell_type": "markdown",
      "metadata": {
        "id": "jvxl2FXhIMne"
      },
      "source": [
        "# **EXERCISE**  **4**"
      ]
    },
    {
      "cell_type": "markdown",
      "metadata": {
        "id": "plGde2v9IkTj"
      },
      "source": [
        "Program to implement Inheritance and Polymorphism"
      ]
    },
    {
      "cell_type": "code",
      "metadata": {
        "colab": {
          "base_uri": "https://localhost:8080/"
        },
        "id": "iDHusFlsIr-H",
        "outputId": "9b62387e-3f4c-48be-c4db-3176e5447db5"
      },
      "source": [
        "#Inheritance \n",
        "class Person(object):\n",
        "    def __init__(self, name):\n",
        "        self.name = name\n",
        "\n",
        "    def get_name_of_the_person(self):\n",
        "        return self.name\n",
        "\n",
        "    def is_Employee(self):\n",
        "        return False\n",
        "   \n",
        "# Subclass.\n",
        "class Employee(Person):\n",
        "   \n",
        "    # Here we return true\n",
        "    def is_Employee(self):\n",
        "        return True\n",
        "   \n",
        "# Driver code\n",
        "emp = Person(\"Dattu\")\n",
        "print(emp.get_name_of_the_person(), emp.is_Employee())\n",
        "   \n",
        "emp = Employee(\"Ad\") # An Object of Employee\n",
        "print(emp.get_name_of_the_person(), emp.is_Employee())"
      ],
      "execution_count": null,
      "outputs": [
        {
          "output_type": "stream",
          "text": [
            "Dattu False\n",
            "Ad True\n"
          ],
          "name": "stdout"
        }
      ]
    },
    {
      "cell_type": "code",
      "metadata": {
        "colab": {
          "base_uri": "https://localhost:8080/"
        },
        "id": "yq9PbqqFS-Ed",
        "outputId": "b4ce4352-b8f1-44be-d8ee-260a7a731d75"
      },
      "source": [
        "#polymorphism\n",
        "class Student():\n",
        "    def name(self):\n",
        "        print(\"Name of the student is Sunny.\")\n",
        "  \n",
        "    def language(self):\n",
        "        print(\"He speaks English and Telugu.\")\n",
        "  \n",
        "    def type(self):\n",
        "        print(\"He is one of the average students in his class.\")\n",
        "\n",
        "class Faculty():\n",
        "    def name(self):\n",
        "        print()\n",
        "        print(\"Name of the faculty is Dattu.\")\n",
        "  \n",
        "    def language(self):\n",
        "        print(\"He speaks English. \")\n",
        "  \n",
        "    def type(self):\n",
        "        print(\"He is one of the best faculty in his department.\")\n",
        "  \n",
        "obj_student = Student()\n",
        "obj_faculty = Faculty()\n",
        "for elements in (obj_student, obj_faculty):\n",
        "    elements.name()\n",
        "    elements.language()\n",
        "    elements.type()"
      ],
      "execution_count": null,
      "outputs": [
        {
          "output_type": "stream",
          "text": [
            "Name of the student is Sunny.\n",
            "He speaks English and Telugu.\n",
            "He is one of the average students in his class.\n",
            "\n",
            "Name of the faculty is Dattu.\n",
            "He speaks English. \n",
            "He is one of the best faculty in his department.\n"
          ],
          "name": "stdout"
        }
      ]
    },
    {
      "cell_type": "markdown",
      "metadata": {
        "id": "lBU9AhDoIsbS"
      },
      "source": [
        "Program to implement Files"
      ]
    },
    {
      "cell_type": "code",
      "metadata": {
        "id": "KPeo9XsIIxg5"
      },
      "source": [
        "# Writing a file.\n",
        "file_object = open('1st_file.txt',\"w+\")\n",
        "for i in range(4):\n",
        "  file_object.write(\"Never ever give Up.\\n\")\n",
        "file_object.close()\n",
        "# Reading the file.\n",
        "file_object = open ('1st_file.txt',\"r\")\n",
        "if file_object.mode == 'r':\n",
        "  words = file_object.read()\n",
        "print(words)\n",
        "# Appending a file\n",
        "file_object = open('1st_file.txt',\"a+\")\n",
        "for i in range(0,4,2):\n",
        "     file_object.write(\"\")\n",
        "file_object.close()\n",
        "# Reading after appending.\n",
        "file_object = open('1st_file.txt',\"r\")\n",
        "if file_object.mode == \"r\":\n",
        "  contents = file_object.read()\n",
        "print(contents)# Appending a file\n",
        "file_object = open('1st_file.txt',\"a+\")\n",
        "for i in range(0,4,2):\n",
        "     file_object.write(\"\")\n",
        "file_object.close()\n",
        "# Reading after appending.\n",
        "file_object = open('1st_file.txt',\"r\")\n",
        "if file_object.mode == \"r\":\n",
        "  contents = file_object.read()\n",
        "print(contents)"
      ],
      "execution_count": null,
      "outputs": []
    },
    {
      "cell_type": "markdown",
      "metadata": {
        "id": "iA418lZ4Ix49"
      },
      "source": [
        "Program to illustrate Handlings"
      ]
    },
    {
      "cell_type": "code",
      "metadata": {
        "colab": {
          "base_uri": "https://localhost:8080/"
        },
        "id": "_wVG2Ig9Khns",
        "outputId": "e457a67d-a417-4251-98b9-d987fe9f18c4"
      },
      "source": [
        "#zero divison Error\n",
        "var1 = int (input('Enter a number from (0-9) :'))\n",
        "var2 = int (input('Enter a number from (0-9) :'))\n",
        "print(\"zero divison error\")\n",
        "try :\n",
        "  division = var1/var2\n",
        "  print('The divsion of two variables {} and {} is {}'.format(var1,var2,division))\n",
        "except (ZeroDivisionError):\n",
        "  print('Cant divide the {} and {}'.format(var1,var2))\n",
        "#index error\n",
        "lst = [2,4,6,8,12,32,441,100]\n",
        "print('Total no of elements in the list are : ',len(lst))\n",
        "i = int(input('Enter an index number below {} : '.format(len(lst))))\n",
        "print(\"index error\")\n",
        "try:\n",
        "  lst[i]\n",
        "  print('The value at {} location is {}'.format(i,lst[i]))\n",
        "except IndexError:\n",
        "  print('Element cannot be found !!')"
      ],
      "execution_count": null,
      "outputs": [
        {
          "output_type": "stream",
          "text": [
            "Enter a number from (0-9) :6\n",
            "Enter a number from (0-9) :8\n",
            "zero divison error\n",
            "The divsion of two variables 6 and 8 is 0.75\n",
            "Total no of elements in the list are :  8\n",
            "Enter an index number below 8 : 4\n",
            "index error\n",
            "The value at 4 location is 12\n"
          ],
          "name": "stdout"
        }
      ]
    },
    {
      "cell_type": "markdown",
      "metadata": {
        "id": "TBpuefVWKiFe"
      },
      "source": [
        "# **EXERCISE 5**"
      ]
    },
    {
      "cell_type": "markdown",
      "metadata": {
        "id": "g1uAQbdPKpnE"
      },
      "source": [
        "Program using scikit-learn to implement K-means clustering"
      ]
    },
    {
      "cell_type": "code",
      "metadata": {
        "colab": {
          "base_uri": "https://localhost:8080/",
          "height": 332
        },
        "id": "Vg7zHEhGKpLi",
        "outputId": "e6ee10de-5088-4147-c763-09e5e35fb95a"
      },
      "source": [
        "import matplotlib.pyplot as plt\n",
        "%matplotlib inline\n",
        "import numpy as np\n",
        "from sklearn.cluster import KMeans\n",
        "X = np.array([[5,3],\n",
        "     [10,15],\n",
        "     [15,12],\n",
        "     [24,10],\n",
        "     [30,45],\n",
        "     [85,70],\n",
        "     [71,80],\n",
        "     [60,78],\n",
        "     [55,52],\n",
        "     [80,91],])\n",
        "plt.scatter(X[:,0],X[:,1], label='True Position')\n",
        "kmeans = KMeans(n_clusters=2)\n",
        "kmeans.fit(X)\n",
        "print(kmeans.cluster_centers_)\n",
        "print(kmeans.labels_)\n",
        "plt.scatter(X[:,0],X[:,1], c=kmeans.labels_, cmap='rainbow')\n",
        "plt.scatter(X[:,0], X[:,1], c=kmeans.labels_, cmap='rainbow')\n",
        "plt.scatter(kmeans.cluster_centers_[:,0] ,kmeans.cluster_centers_[:,1], color='black')"
      ],
      "execution_count": null,
      "outputs": [
        {
          "output_type": "stream",
          "text": [
            "[[70.2 74.2]\n",
            " [16.8 17. ]]\n",
            "[1 1 1 1 1 0 0 0 0 0]\n"
          ],
          "name": "stdout"
        },
        {
          "output_type": "execute_result",
          "data": {
            "text/plain": [
              "<matplotlib.collections.PathCollection at 0x7f3a1a9e54d0>"
            ]
          },
          "metadata": {
            "tags": []
          },
          "execution_count": 33
        },
        {
          "output_type": "display_data",
          "data": {
            "image/png": "[encoded data removed]",
            "text/plain": [
              "<Figure size 432x288 with 1 Axes>"
            ]
          },
          "metadata": {
            "tags": []
          }
        }
      ]
    },
    {
      "cell_type": "markdown",
      "metadata": {
        "id": "7FOS-1LCMgcd"
      },
      "source": [
        "Program to calculate entropy and information gain"
      ]
    },
    {
      "cell_type": "code",
      "metadata": {
        "id": "zS29uWPMMrWR"
      },
      "source": [
        "from __future__ import division\n",
        "from math import log\n",
        "\n",
        "\n",
        "def entropy(pi):\n",
        "   \n",
        "\n",
        "    total = 0\n",
        "    for p in pi:\n",
        "        p = p / sum(pi)\n",
        "        if p != 0:\n",
        "            total += p * log(p, 2)\n",
        "        else:\n",
        "            total += 0\n",
        "    total *= -1\n",
        "    return total"
      ],
      "execution_count": null,
      "outputs": []
    },
    {
      "cell_type": "code",
      "metadata": {
        "id": "h04U4zFuV35O"
      },
      "source": [
        "def gain(d, a):\n",
        "    '''\n",
        "    return the information gain:\n",
        "    gain(D, A) = entropy(D)−􏰋 SUM ( |Di| / |D| * entropy(Di) )\n",
        "    '''\n",
        "\n",
        "    total = 0\n",
        "    for v in a:\n",
        "        total += sum(v) / sum(d) * entropy(v)\n",
        "\n",
        "    gain = entropy(d) - total\n",
        "    return gain"
      ],
      "execution_count": null,
      "outputs": []
    },
    {
      "cell_type": "code",
      "metadata": {
        "colab": {
          "base_uri": "https://localhost:8080/"
        },
        "id": "AmHWd-N8V_Bw",
        "outputId": "467b61db-3eaf-45e3-ddf5-7a04c0912d1f"
      },
      "source": [
        "# TEST\n",
        "\n",
        "###__ example 1 (AIMA book, fig18.3)\n",
        "\n",
        "# set of example of the dataset\n",
        "willWait = [6, 6] # Yes, No\n",
        "\n",
        "# attribute, number of members (feature)\n",
        "patron = [ [4,0], [2,4], [0,2] ] # Some, Full, None\n",
        "\n",
        "print(gain(willWait, patron))"
      ],
      "execution_count": null,
      "outputs": [
        {
          "output_type": "stream",
          "text": [
            "0.5408520829727552\n"
          ],
          "name": "stdout"
        }
      ]
    },
    {
      "cell_type": "code",
      "metadata": {
        "colab": {
          "base_uri": "https://localhost:8080/"
        },
        "id": "BAiHHjz0WMhj",
        "outputId": "90e2a40f-79c6-4588-db11-5ed2dd0119c0"
      },
      "source": [
        "##__ example 2 (playTennis homework)\n",
        "\n",
        "# set of example of the dataset\n",
        "playTennis = [9, 5] # Yes, No\n",
        "\n",
        "# attribute, number of members (feature)\n",
        "outlook = [\n",
        "    [4, 0],  # overcase\n",
        "    [2, 3],  # sunny\n",
        "    [3, 2]   # rain\n",
        "]\n",
        "temperature = [\n",
        "    [2, 2],  # hot\n",
        "    [3, 1],  # cool\n",
        "    [4, 2]   # mild\n",
        "]\n",
        "humidity = [\n",
        "    [3, 4],  # high\n",
        "    [6, 1]   # normal\n",
        "]\n",
        "wind = [\n",
        "    [6, 2],  # weak\n",
        "    [3, 3]   # strong\n",
        "]\n",
        "\n",
        "print(gain(playTennis, outlook))\n",
        "print(gain(playTennis, temperature))\n",
        "print(gain(playTennis, humidity))\n",
        "print(gain(playTennis, wind))"
      ],
      "execution_count": null,
      "outputs": [
        {
          "output_type": "stream",
          "text": [
            "0.2467498197744391\n",
            "0.029222565658954647\n",
            "0.15183550136234136\n",
            "0.04812703040826927\n"
          ],
          "name": "stdout"
        }
      ]
    },
    {
      "cell_type": "markdown",
      "metadata": {
        "id": "yNw-0YozTzz6"
      },
      "source": [
        "Program to implement perceptron"
      ]
    },
    {
      "cell_type": "code",
      "metadata": {
        "colab": {
          "base_uri": "https://localhost:8080/",
          "height": 279
        },
        "id": "xt-QfIc2UDgK",
        "outputId": "2e3066a6-1ef2-4fec-e1bf-9f4ced3a1275"
      },
      "source": [
        "#import packages\n",
        "import sklearn.datasets\n",
        "import numpy as np\n",
        "import pandas as pd\n",
        "import matplotlib.pyplot as plt\n",
        "from sklearn.model_selection import train_test_split\n",
        "\n",
        "#load the breast cancer data\n",
        "breast_cancer = sklearn.datasets.load_breast_cancer()\n",
        "\n",
        "#convert the data to pandas dataframe.\n",
        "data = pd.DataFrame(breast_cancer.data, columns = breast_cancer.feature_names)\n",
        "data[\"class\"] = breast_cancer.target\n",
        "data.head()\n",
        "data.describe()\n",
        "\n",
        "#plotting a graph to see class imbalance\n",
        "data['class'].value_counts().plot(kind = \"barh\")\n",
        "plt.xlabel(\"Count\")\n",
        "plt.ylabel(\"Classes\")\n",
        "plt.show()\n",
        "\n",
        "from sklearn.preprocessing import MinMaxScaler\n",
        "#perform scaling on the data.\n",
        "X = data.drop(\"class\", axis = 1)\n",
        "Y = data[\"class\"]\n",
        "mnscaler = MinMaxScaler()\n",
        "X = mnscaler.fit_transform(X)\n",
        "X = pd.DataFrame(X, columns=data.drop(\"class\",axis = 1).columns)\n",
        "\n",
        "#train test split.\n",
        "X_train, X_test, Y_train, Y_test = train_test_split(X,Y, test_size = 0.1, stratify = Y, random_state = 1)\n",
        "class Perceptron:\n",
        "  \n",
        "  #constructor\n",
        "  def _init_ (self):\n",
        "    self.w = None\n",
        "    self.b = None\n",
        "    \n",
        "  #model  \n",
        "  def model(self, x):\n",
        "    return 1 if (np.dot(self.w, x) >= self.b) else 0\n",
        "  \n",
        "  #predictor to predict on the data based on w\n",
        "  def predict(self, X):\n",
        "    Y = []\n",
        "    for x in X:\n",
        "      result = self.model(x)\n",
        "      Y.append(result)\n",
        "    return np.array(Y)\n",
        "    \n",
        "  def fit(self, X, Y, epochs = 1, lr = 1):\n",
        "    self.w = np.ones(X.shape[1])\n",
        "    self.b = 0\n",
        "    accuracy = {}\n",
        "    max_accuracy = 0\n",
        "    wt_matrix = []\n",
        "    #for all epochs\n",
        "    for i in range(epochs):\n",
        "      for x, y in zip(X, Y):\n",
        "        y_pred = self.model(x)\n",
        "        if y == 1 and y_pred == 0:\n",
        "          self.w = self.w + lr * x\n",
        "          self.b = self.b - lr * 1\n",
        "        elif y == 0 and y_pred == 1:\n",
        "          self.w = self.w - lr * x\n",
        "          self.b = self.b + lr * 1\n",
        "          \n",
        "      wt_matrix.append(self.w)    \n",
        "      accuracy[i] = accuracy_score(self.predict(X), Y)\n",
        "      if (accuracy[i] > max_accuracy):\n",
        "        max_accuracy = accuracy[i]\n",
        "        chkptw = self.w\n",
        "        chkptb = self.b\n",
        "    #checkpoint (Save the weights and b value)\n",
        "    self.w = chkptw\n",
        "    self.b = chkptb\n",
        "        \n",
        "    print(max_accuracy)\n",
        "    #plot the accuracy values over epochs\n",
        "    plt.plot(accuracy.values())\n",
        "    plt.xlabel(\"Epoch #\")\n",
        "    plt.ylabel(\"Accuracy\")\n",
        "    plt.ylim([0, 1])\n",
        "    plt.show()\n",
        "    \n",
        "    #return the weight matrix, that contains weights over all epochs\n",
        "    return np.array(wt_matrix)\n",
        "    perceptron = Perceptron()"
      ],
      "execution_count": null,
      "outputs": [
        {
          "output_type": "display_data",
          "data": {
            "image/png": "[encoded data removed]",
            "text/plain": [
              "<Figure size 432x288 with 1 Axes>"
            ]
          },
          "metadata": {
            "tags": []
          }
        }
      ]
    },
    {
      "cell_type": "markdown",
      "metadata": {
        "id": "9jaqhsUsUEHr"
      },
      "source": [
        "# **EXERCISE 6**"
      ]
    },
    {
      "cell_type": "markdown",
      "metadata": {
        "id": "S26NwMVzUOLp"
      },
      "source": [
        "Generate a decision tree. Find depth of decison trees and observe the results ,then propose some changes in decision tree classifier function to limit "
      ]
    },
    {
      "cell_type": "code",
      "metadata": {
        "colab": {
          "base_uri": "https://localhost:8080/"
        },
        "id": "E7qZYQa6Weaj",
        "outputId": "04b1d699-9740-4789-f0fb-09c5bf2c8da3"
      },
      "source": [
        "class Node:\n",
        " \n",
        "   \n",
        "    def __init__(self, data):\n",
        "        self.data = data\n",
        "        self.left = None\n",
        "        self.right = None\n",
        " \n",
        "\n",
        "def maxDepth(node):\n",
        "    if node is None:\n",
        "        return 0 ;\n",
        " \n",
        "    else :\n",
        "        lDepth = maxDepth(node.left)\n",
        "        rDepth = maxDepth(node.right)\n",
        " \n",
        "        \n",
        "        if (lDepth > rDepth):\n",
        "            return lDepth+1\n",
        "        else:\n",
        "            return rDepth+1\n",
        " \n",
        " \n",
        "\n",
        "root = Node(20)\n",
        "root.left = Node(30)\n",
        "root.right = Node(48)\n",
        "root.left.left = Node(15)\n",
        "root.left.right = Node(50)\n",
        " \n",
        " \n",
        "print (\"Height of tree is %d\" %(maxDepth(root)))"
      ],
      "execution_count": null,
      "outputs": [
        {
          "output_type": "stream",
          "text": [
            "Height of tree is 3\n"
          ],
          "name": "stdout"
        }
      ]
    },
    {
      "cell_type": "markdown",
      "metadata": {
        "id": "gh5yRVpIWhL0"
      },
      "source": [
        "Occupancy estimator using random forest"
      ]
    },
    {
      "cell_type": "code",
      "metadata": {
        "id": "A14a0afFWgku"
      },
      "source": [
        ""
      ],
      "execution_count": null,
      "outputs": []
    },
    {
      "cell_type": "markdown",
      "metadata": {
        "id": "IMnQspSGXu8b"
      },
      "source": [
        "# **EXERCISE 7**"
      ]
    },
    {
      "cell_type": "markdown",
      "metadata": {
        "id": "04FaSjtaX0x-"
      },
      "source": [
        "Calculating with matrices using numpy: inv,piny,matrix_rank,solve,lstsq,svd,transpose,eig,sort,linespace,meshgrid,mgrid,ogrid,concatenate,tile,squeeze,integrate"
      ]
    },
    {
      "cell_type": "code",
      "metadata": {
        "colab": {
          "base_uri": "https://localhost:8080/"
        },
        "id": "NL2uqid3YTrd",
        "outputId": "f4c6ce2d-2a2b-4e9d-97bf-aa88637b9679"
      },
      "source": [
        "#inv\n",
        "import numpy as np\n",
        "A = np.array([[1,3,6],\n",
        "      [6,2,4],\n",
        "      [8,-4,3]])\n",
        "print(np.linalg.inv(A))"
      ],
      "execution_count": null,
      "outputs": [
        {
          "output_type": "stream",
          "text": [
            "[[-0.125       0.1875      0.        ]\n",
            " [-0.07954545  0.25568182 -0.18181818]\n",
            " [ 0.22727273 -0.15909091  0.09090909]]\n"
          ],
          "name": "stdout"
        }
      ]
    },
    {
      "cell_type": "code",
      "metadata": {
        "colab": {
          "base_uri": "https://localhost:8080/"
        },
        "id": "9hZ8yQWxQqpn",
        "outputId": "b55bfa20-d45c-4ccd-ead6-4fc5d8f6d355"
      },
      "source": [
        "#pinv\n",
        "import numpy as np\n",
        "A = np.array([[1, 4, 7],\n",
        "\t\t\t[5, 4, -3],\n",
        "\t\t\t[-2, 5, 4]])\n",
        "print(np.linalg.pinv(A))"
      ],
      "execution_count": null,
      "outputs": [
        {
          "output_type": "stream",
          "text": [
            "[[ 0.15048544  0.09223301 -0.19417476]\n",
            " [-0.06796117  0.08737864  0.18446602]\n",
            " [ 0.16019417 -0.0631068  -0.0776699 ]]\n"
          ],
          "name": "stdout"
        }
      ]
    },
    {
      "cell_type": "code",
      "metadata": {
        "colab": {
          "base_uri": "https://localhost:8080/"
        },
        "id": "uIr6Z5plQrHA",
        "outputId": "3c9a1625-4b4a-4844-e0ff-10d2f5858453"
      },
      "source": [
        "#matrix_rank\n",
        "from numpy.linalg import matrix_rank\n",
        "A = np.array([[1, 4, 7],\n",
        "\t\t\t[5, 4, -3],\n",
        "\t\t\t[-2, 5, 4]])\n",
        "print(np.linalg.matrix_rank(A))"
      ],
      "execution_count": null,
      "outputs": [
        {
          "output_type": "stream",
          "text": [
            "3\n"
          ],
          "name": "stdout"
        }
      ]
    },
    {
      "cell_type": "code",
      "metadata": {
        "colab": {
          "base_uri": "https://localhost:8080/"
        },
        "id": "1_ImFO-AQrks",
        "outputId": "7a72a415-e002-45e3-aa7d-ebad36cb8d04"
      },
      "source": [
        "#solve\n",
        "a = np.array([[3, 5], [5, 9]])\n",
        "b = np.array([3, 4])\n",
        "x = np.linalg.solve(a, b)\n",
        "x"
      ],
      "execution_count": null,
      "outputs": [
        {
          "output_type": "execute_result",
          "data": {
            "text/plain": [
              "array([ 3.5, -1.5])"
            ]
          },
          "metadata": {
            "tags": []
          },
          "execution_count": 27
        }
      ]
    },
    {
      "cell_type": "code",
      "metadata": {
        "colab": {
          "base_uri": "https://localhost:8080/"
        },
        "id": "fM0LyhZHQr9w",
        "outputId": "ef686c0e-01ef-4fd8-8fc2-5338c990289f"
      },
      "source": [
        "# lstsq\n",
        "x = np.array([[0, 1], [2, 3]])\n",
        "y = np.array([[-1, 0.2], [0.9, 2.1]])\n",
        "np.linalg.lstsq(x,y)"
      ],
      "execution_count": null,
      "outputs": [
        {
          "output_type": "stream",
          "text": [
            "/usr/local/lib/python3.7/dist-packages/ipykernel_launcher.py:4: FutureWarning: `rcond` parameter will change to the default of machine precision times ``max(M, N)`` where M and N are the input matrix dimensions.\n",
            "To use the future default and silence this warning we advise to pass `rcond=None`, to keep using the old, explicitly pass `rcond=-1`.\n",
            "  after removing the cwd from sys.path.\n"
          ],
          "name": "stderr"
        },
        {
          "output_type": "execute_result",
          "data": {
            "text/plain": [
              "(array([[ 1.95,  0.75],\n",
              "        [-1.  ,  0.2 ]]),\n",
              " array([], dtype=float64),\n",
              " 2,\n",
              " array([3.70245917, 0.54018151]))"
            ]
          },
          "metadata": {
            "tags": []
          },
          "execution_count": 28
        }
      ]
    },
    {
      "cell_type": "code",
      "metadata": {
        "colab": {
          "base_uri": "https://localhost:8080/"
        },
        "id": "Ply6NFCER0ue",
        "outputId": "b654507d-50b8-4415-8e92-2933f380c91b"
      },
      "source": [
        "#svd\n",
        "a = np.random.randn(9, 6) + 1j*np.random.randn(9, 6)\n",
        "b = np.random.randn(2, 7, 8, 3) + 1j*np.random.randn(2, 7, 8, 3)\n",
        "u, s, vh = np.linalg.svd(a, full_matrices=True)\n",
        "u.shape, s.shape, vh.shape"
      ],
      "execution_count": null,
      "outputs": [
        {
          "output_type": "execute_result",
          "data": {
            "text/plain": [
              "((9, 9), (6,), (6, 6))"
            ]
          },
          "metadata": {
            "tags": []
          },
          "execution_count": 29
        }
      ]
    },
    {
      "cell_type": "code",
      "metadata": {
        "colab": {
          "base_uri": "https://localhost:8080/"
        },
        "id": "uR3klWqnR1BU",
        "outputId": "8b0968fa-bad2-4dbc-811c-b9fc00826cf0"
      },
      "source": [
        "#transpose\n",
        "a = np.array([[1, 2], [3, 4]])\n",
        "a.transpose()"
      ],
      "execution_count": null,
      "outputs": [
        {
          "output_type": "execute_result",
          "data": {
            "text/plain": [
              "array([[1, 3],\n",
              "       [2, 4]])"
            ]
          },
          "metadata": {
            "tags": []
          },
          "execution_count": 30
        }
      ]
    },
    {
      "cell_type": "code",
      "metadata": {
        "colab": {
          "base_uri": "https://localhost:8080/"
        },
        "id": "pFFEuCJVR1dI",
        "outputId": "50830f75-7d68-483c-ee3a-a03e4e65b763"
      },
      "source": [
        "#eig\n",
        "from numpy import linalg as LA\n",
        "w, v = LA.eig(np.diag((1, 2, 3)))\n",
        "v"
      ],
      "execution_count": null,
      "outputs": [
        {
          "output_type": "execute_result",
          "data": {
            "text/plain": [
              "array([[1., 0., 0.],\n",
              "       [0., 1., 0.],\n",
              "       [0., 0., 1.]])"
            ]
          },
          "metadata": {
            "tags": []
          },
          "execution_count": 31
        }
      ]
    },
    {
      "cell_type": "code",
      "metadata": {
        "colab": {
          "base_uri": "https://localhost:8080/"
        },
        "id": "1xa6-kqkR117",
        "outputId": "e0ecf34d-11b2-40b1-f5a2-8f76e3b3ee14"
      },
      "source": [
        "#sort\n",
        "a = np.array([[1,4],[3,1]])\n",
        "np.sort(a) "
      ],
      "execution_count": null,
      "outputs": [
        {
          "output_type": "execute_result",
          "data": {
            "text/plain": [
              "array([[1, 4],\n",
              "       [1, 3]])"
            ]
          },
          "metadata": {
            "tags": []
          },
          "execution_count": 32
        }
      ]
    },
    {
      "cell_type": "code",
      "metadata": {
        "colab": {
          "base_uri": "https://localhost:8080/"
        },
        "id": "vfGZN4RPSAJY",
        "outputId": "f409a580-703b-4be2-f3ff-9665d276da2d"
      },
      "source": [
        "#linspace\n",
        "a=np.linspace(2.0, 3.0, num=7)\n",
        "a"
      ],
      "execution_count": null,
      "outputs": [
        {
          "output_type": "execute_result",
          "data": {
            "text/plain": [
              "array([2.        , 2.16666667, 2.33333333, 2.5       , 2.66666667,\n",
              "       2.83333333, 3.        ])"
            ]
          },
          "metadata": {
            "tags": []
          },
          "execution_count": 33
        }
      ]
    },
    {
      "cell_type": "code",
      "metadata": {
        "colab": {
          "base_uri": "https://localhost:8080/"
        },
        "id": "0UFCvfIkSWh3",
        "outputId": "b2aa13d6-525e-44fc-9ff3-91423bc24d0f"
      },
      "source": [
        "#meshgrid\n",
        "nx, ny = (3, 3)\n",
        "x = np.linspace(0, 5, nx)\n",
        "y = np.linspace(0, 5, ny)\n",
        "xv, yv = np.meshgrid(x, y)\n",
        "print(xv,\"\\n\")\n",
        "print(yv)"
      ],
      "execution_count": null,
      "outputs": [
        {
          "output_type": "stream",
          "text": [
            "[[0.  2.5 5. ]\n",
            " [0.  2.5 5. ]\n",
            " [0.  2.5 5. ]] \n",
            "\n",
            "[[0.  0.  0. ]\n",
            " [2.5 2.5 2.5]\n",
            " [5.  5.  5. ]]\n"
          ],
          "name": "stdout"
        }
      ]
    },
    {
      "cell_type": "code",
      "metadata": {
        "colab": {
          "base_uri": "https://localhost:8080/"
        },
        "id": "nGKsNUHKSW6Y",
        "outputId": "af6018e7-2396-4ca7-c991-17440ebc4092"
      },
      "source": [
        "#mgrid\n",
        "np.mgrid[0:3,0:7]"
      ],
      "execution_count": null,
      "outputs": [
        {
          "output_type": "execute_result",
          "data": {
            "text/plain": [
              "array([[[0, 0, 0, 0, 0, 0, 0],\n",
              "        [1, 1, 1, 1, 1, 1, 1],\n",
              "        [2, 2, 2, 2, 2, 2, 2]],\n",
              "\n",
              "       [[0, 1, 2, 3, 4, 5, 6],\n",
              "        [0, 1, 2, 3, 4, 5, 6],\n",
              "        [0, 1, 2, 3, 4, 5, 6]]])"
            ]
          },
          "metadata": {
            "tags": []
          },
          "execution_count": 35
        }
      ]
    },
    {
      "cell_type": "code",
      "metadata": {
        "colab": {
          "base_uri": "https://localhost:8080/"
        },
        "id": "ohnh44fDSXUF",
        "outputId": "7c289a61-a6e4-4445-a7f0-7a6fcbdf9e9d"
      },
      "source": [
        "#ogrid\n",
        "from numpy import ogrid\n",
        "ogrid[0:3,0:7]"
      ],
      "execution_count": null,
      "outputs": [
        {
          "output_type": "execute_result",
          "data": {
            "text/plain": [
              "[array([[0],\n",
              "        [1],\n",
              "        [2]]), array([[0, 1, 2, 3, 4, 5, 6]])]"
            ]
          },
          "metadata": {
            "tags": []
          },
          "execution_count": 36
        }
      ]
    },
    {
      "cell_type": "code",
      "metadata": {
        "colab": {
          "base_uri": "https://localhost:8080/"
        },
        "id": "TJnKh8suSrN2",
        "outputId": "fd115f32-dca3-4dba-d300-35065a99ffb6"
      },
      "source": [
        "#concatenate\n",
        "a = np.array([[3, 7], [6, 8]])\n",
        "b = np.array([[11, 15]])\n",
        "np.concatenate((a, b), axis=0)"
      ],
      "execution_count": null,
      "outputs": [
        {
          "output_type": "execute_result",
          "data": {
            "text/plain": [
              "array([[ 3,  7],\n",
              "       [ 6,  8],\n",
              "       [11, 15]])"
            ]
          },
          "metadata": {
            "tags": []
          },
          "execution_count": 37
        }
      ]
    },
    {
      "cell_type": "code",
      "metadata": {
        "colab": {
          "base_uri": "https://localhost:8080/"
        },
        "id": "OHvgg2rFSrsE",
        "outputId": "a476847f-586b-4ad1-ec97-f94a6c7c555f"
      },
      "source": [
        "#tile\n",
        "a = np.array([0, 1, 2])\n",
        "np.tile(a, [2,3])"
      ],
      "execution_count": null,
      "outputs": [
        {
          "output_type": "execute_result",
          "data": {
            "text/plain": [
              "array([[0, 1, 2, 0, 1, 2, 0, 1, 2],\n",
              "       [0, 1, 2, 0, 1, 2, 0, 1, 2]])"
            ]
          },
          "metadata": {
            "tags": []
          },
          "execution_count": 38
        }
      ]
    },
    {
      "cell_type": "code",
      "metadata": {
        "colab": {
          "base_uri": "https://localhost:8080/"
        },
        "id": "CT1HINSXSsFj",
        "outputId": "53bac3b9-ec79-410e-aff0-6769a487ce98"
      },
      "source": [
        "#squeeze\n",
        "x = np.array([[[0,2], [1,4], [2,3]]])\n",
        "x.shape\n",
        "np.squeeze(x).shape"
      ],
      "execution_count": null,
      "outputs": [
        {
          "output_type": "execute_result",
          "data": {
            "text/plain": [
              "(3, 2)"
            ]
          },
          "metadata": {
            "tags": []
          },
          "execution_count": 39
        }
      ]
    },
    {
      "cell_type": "code",
      "metadata": {
        "colab": {
          "base_uri": "https://localhost:8080/"
        },
        "id": "gTsCWwSbSvpv",
        "outputId": "5d9021d9-f822-4a0b-92ab-bd83d3b07b1f"
      },
      "source": [
        "#integrate\n",
        "def integrate(f, a, b, N):\n",
        "    x = np.linspace(a, b, N)\n",
        "    fx = f(x)\n",
        "    area = np.sum(fx)*(b-a)/N\n",
        "    return area\n",
        "integrate(np.sin, 0, np.pi/2, 100)"
      ],
      "execution_count": null,
      "outputs": [
        {
          "output_type": "execute_result",
          "data": {
            "text/plain": [
              "0.9978332121772983"
            ]
          },
          "metadata": {
            "tags": []
          },
          "execution_count": 40
        }
      ]
    },
    {
      "cell_type": "markdown",
      "metadata": {
        "id": "rNAbeDaCYV2C"
      },
      "source": [
        "# **EXERCISE 8**"
      ]
    },
    {
      "cell_type": "markdown",
      "metadata": {
        "id": "ErmblEEqYlnO"
      },
      "source": [
        "Program using panda"
      ]
    },
    {
      "cell_type": "code",
      "metadata": {
        "colab": {
          "base_uri": "https://localhost:8080/"
        },
        "id": "jDWQzGM7YfaF",
        "outputId": "7ffe3e93-b767-4aa6-c37e-a3749368fb40"
      },
      "source": [
        "dict = {\"country\": [\"Brazil\", \"Russia\", \"India\", \"China\", \"South Africa\"],\n",
        "       \"capital\": [\"Brasilia\", \"Moscow\", \"New Dehli\", \"Beijing\", \"Pretoria\"],\n",
        "       \"area\": [8.516, 17.10, 3.286, 9.597, 1.221],\n",
        "       \"population\": [200.4, 143.5, 1252, 1357, 52.98] }\n",
        "import pandas as pd\n",
        "brics = pd.DataFrame(dict)\n",
        "print(brics)"
      ],
      "execution_count": null,
      "outputs": [
        {
          "output_type": "stream",
          "text": [
            "        country    capital    area  population\n",
            "0        Brazil   Brasilia   8.516      200.40\n",
            "1        Russia     Moscow  17.100      143.50\n",
            "2         India  New Dehli   3.286     1252.00\n",
            "3         China    Beijing   9.597     1357.00\n",
            "4  South Africa   Pretoria   1.221       52.98\n"
          ],
          "name": "stdout"
        }
      ]
    },
    {
      "cell_type": "markdown",
      "metadata": {
        "id": "Pt3OpiFIYp44"
      },
      "source": [
        "Program using matplotlib-use minimum 5 plotting techniques"
      ]
    },
    {
      "cell_type": "code",
      "metadata": {
        "id": "-9KgnoSouvbT"
      },
      "source": [
        ""
      ],
      "execution_count": null,
      "outputs": []
    },
    {
      "cell_type": "code",
      "metadata": {
        "id": "9LBJv0vFuvYz"
      },
      "source": [
        ""
      ],
      "execution_count": null,
      "outputs": []
    },
    {
      "cell_type": "code",
      "metadata": {
        "id": "CDBn2h7ouvVd"
      },
      "source": [
        ""
      ],
      "execution_count": null,
      "outputs": []
    },
    {
      "cell_type": "code",
      "metadata": {
        "id": "vpyxvF0yuvTm"
      },
      "source": [
        ""
      ],
      "execution_count": null,
      "outputs": []
    },
    {
      "cell_type": "code",
      "metadata": {
        "id": "ZTEyNhqluvPt"
      },
      "source": [
        ""
      ],
      "execution_count": null,
      "outputs": []
    },
    {
      "cell_type": "code",
      "metadata": {
        "id": "4M15FyG_uvMz"
      },
      "source": [
        ""
      ],
      "execution_count": null,
      "outputs": []
    },
    {
      "cell_type": "code",
      "metadata": {
        "id": "NlD3GsIRuvJh"
      },
      "source": [
        ""
      ],
      "execution_count": null,
      "outputs": []
    },
    {
      "cell_type": "code",
      "metadata": {
        "colab": {
          "base_uri": "https://localhost:8080/",
          "height": 264
        },
        "id": "NLtl1exNZA2g",
        "outputId": "b5e554d6-41d5-44d4-a3a0-ec453f3e4e89"
      },
      "source": [
        "import matplotlib.pyplot as plt\n",
        " \n",
        "days = [1,2,3,4,5]\n",
        " \n",
        "sleeping =[7,8,6,11,7]\n",
        "eating = [2,3,4,3,2]\n",
        "working =[7,8,7,2,2]\n",
        "playing = [8,5,7,8,13]\n",
        "slices = [7,2,2,13]\n",
        "activities = ['sleeping','eating','working','playing']\n",
        "cols = ['c','m','r','b']\n",
        " \n",
        "plt.pie(slices,\n",
        "  labels=activities,\n",
        "  colors=cols,\n",
        "  startangle=90,\n",
        "  shadow= True,\n",
        "  explode=(0,0.1,0,0),\n",
        "  autopct='%1.1f%%')\n",
        " \n",
        "plt.title('Pie Plot')\n",
        "plt.show()"
      ],
      "execution_count": null,
      "outputs": [
        {
          "output_type": "display_data",
          "data": {
            "image/png": "[encoded data removed]",
            "text/plain": [
              "<Figure size 432x288 with 1 Axes>"
            ]
          },
          "metadata": {
            "tags": []
          }
        }
      ]
    },
    {
      "cell_type": "code",
      "metadata": {
        "colab": {
          "base_uri": "https://localhost:8080/",
          "height": 1000
        },
        "id": "eUCPwQB5bNxF",
        "outputId": "365aa135-b608-4aa4-ee5f-614182cda79a"
      },
      "source": [
        "import numpy as np\n",
        "import matplotlib.pyplot as plt\n",
        "M = np.array([[1,1],[-2,2],[4,-7]])\n",
        "\n",
        "print(\"vector:1\")\n",
        "print(M[0,:])\n",
        "rows,cols = M.T.shape\n",
        "print(cols)\n",
        "\n",
        "for i,l in enumerate(range(0,cols)):\n",
        "    print(\"Iteration: {}-{}\".format(i,l))\n",
        "     plt.figure(i)\n",
        "    plt.plot(v1)\n",
        "    plt.show()"
      ],
      "execution_count": null,
      "outputs": [
        {
          "output_type": "stream",
          "text": [
            "vector:1\n",
            "[1 1]\n",
            "3\n",
            "Iteration: 0-0\n",
            "vector:0\n",
            "[1 1]\n",
            "([0, 0], [1, 1])\n"
          ],
          "name": "stdout"
        },
        {
          "output_type": "display_data",
          "data": {
            "image/png": "[encoded data removed]",
            "text/plain": [
              "<Figure size 432x288 with 1 Axes>"
            ]
          },
          "metadata": {
            "tags": []
          }
        },
        {
          "output_type": "stream",
          "text": [
            "Iteration: 1-1\n",
            "vector:1\n",
            "[-2  2]\n",
            "([0, 0], [-2, 2])\n"
          ],
          "name": "stdout"
        },
        {
          "output_type": "display_data",
          "data": {
            "image/png": "[encoded data removed]",
            "text/plain": [
              "<Figure size 432x288 with 1 Axes>"
            ]
          },
          "metadata": {
            "tags": []
          }
        },
        {
          "output_type": "stream",
          "text": [
            "Iteration: 2-2\n",
            "vector:2\n",
            "[ 4 -7]\n",
            "([0, 0], [4, -7])\n"
          ],
          "name": "stdout"
        },
        {
          "output_type": "display_data",
          "data": {
            "image/png": "[encoded data removed]",
            "text/plain": [
              "<Figure size 432x288 with 1 Axes>"
            ]
          },
          "metadata": {
            "tags": []
          }
        }
      ]
    },
    {
      "cell_type": "code",
      "metadata": {
        "id": "a48BHk37u6hQ"
      },
      "source": [
        ""
      ],
      "execution_count": null,
      "outputs": []
    },
    {
      "cell_type": "code",
      "metadata": {
        "id": "n8_R47Psu7Hx"
      },
      "source": [
        ""
      ],
      "execution_count": null,
      "outputs": []
    },
    {
      "cell_type": "code",
      "metadata": {
        "id": "eEm5cDoUu6ax"
      },
      "source": [
        ""
      ],
      "execution_count": null,
      "outputs": []
    },
    {
      "cell_type": "code",
      "metadata": {
        "id": "YoM16Dktu6Xl"
      },
      "source": [
        ""
      ],
      "execution_count": null,
      "outputs": []
    },
    {
      "cell_type": "code",
      "metadata": {
        "id": "BmGV7vaou6UY"
      },
      "source": [
        ""
      ],
      "execution_count": null,
      "outputs": []
    },
    {
      "cell_type": "code",
      "metadata": {
        "id": "vPMvKIwrvA9n"
      },
      "source": [
        ""
      ],
      "execution_count": null,
      "outputs": []
    },
    {
      "cell_type": "code",
      "metadata": {
        "id": "UCdg5W61vA5k"
      },
      "source": [
        ""
      ],
      "execution_count": null,
      "outputs": []
    },
    {
      "cell_type": "code",
      "metadata": {
        "id": "ja0oTPyzvA2H"
      },
      "source": [
        ""
      ],
      "execution_count": null,
      "outputs": []
    },
    {
      "cell_type": "markdown",
      "metadata": {
        "id": "5EKhT4H6ZBSh"
      },
      "source": [
        "# **EXERCISE 9**"
      ]
    },
    {
      "cell_type": "markdown",
      "metadata": {
        "id": "Oa-2BYFmZHwE"
      },
      "source": [
        "Graph using matplotlib"
      ]
    },
    {
      "cell_type": "code",
      "metadata": {
        "colab": {
          "base_uri": "https://localhost:8080/",
          "height": 295
        },
        "id": "S-YhK5vHZHJU",
        "outputId": "a7df3843-9186-4e4f-ca4c-d5043cc9094e"
      },
      "source": [
        "import matplotlib.pyplot as plt\n",
        "x = [1,2,3]\n",
        "y = [2,4,1]\n",
        "plt.plot(x, y)\n",
        "plt.xlabel('x - axis')\n",
        "plt.ylabel('y - axis')\n",
        "plt.title('My first graph!')\n",
        "plt.show()"
      ],
      "execution_count": null,
      "outputs": [
        {
          "output_type": "display_data",
          "data": {
            "image/png": "[encoded data removed]",
            "text/plain": [
              "<Figure size 432x288 with 1 Axes>"
            ]
          },
          "metadata": {
            "tags": []
          }
        }
      ]
    },
    {
      "cell_type": "markdown",
      "metadata": {
        "id": "sk9d56JbZOWx"
      },
      "source": [
        "# **EXERCISE 10**"
      ]
    },
    {
      "cell_type": "markdown",
      "metadata": {
        "id": "oBg5GitDZTK1"
      },
      "source": [
        "Vector using matplotlib"
      ]
    },
    {
      "cell_type": "code",
      "metadata": {
        "colab": {
          "base_uri": "https://localhost:8080/",
          "height": 261
        },
        "id": "KfOJ5fEhZStE",
        "outputId": "804082d8-b3d6-46c4-94a7-3c6e6f168a8b"
      },
      "source": [
        "import numpy as np\n",
        "from matplotlib import pyplot as plt\n",
        "plt.rcParams[\"figure.figsize\"] = [7.00, 3.50]\n",
        "plt.rcParams[\"figure.autolayout\"] = True\n",
        "data = np.array([[2, 1], [-1, 2], [4, -1]])\n",
        "origin = np.array([[0, 0, 0], [0, 0, 0]])\n",
        "plt.quiver(*origin, data[:, 0], data[:, 1], color=['black', 'red', 'green'], scale=15)\n",
        "plt.show()"
      ],
      "execution_count": null,
      "outputs": [
        {
          "output_type": "display_data",
          "data": {
            "image/png": "[encoded data removed]",
            "text/plain": [
              "<Figure size 504x252 with 1 Axes>"
            ]
          },
          "metadata": {
            "tags": []
          }
        }
      ]
    }
  ]
}